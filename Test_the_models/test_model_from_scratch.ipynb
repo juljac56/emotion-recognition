{
 "cells": [
  {
   "cell_type": "code",
   "execution_count": 1,
   "metadata": {},
   "outputs": [],
   "source": [
    "import sys \n",
    "import os \n",
    "import cv2\n",
    "import numpy as np\n",
    "import matplotlib.pyplot as plt\n",
    "import tensorflow as tf\n",
    "import pandas as pd\n",
    "from tensorflow import keras \n",
    "from keras.models import Sequential\n",
    "from keras.layers import Dense, Dropout, Activation, Flatten\n",
    "from keras.layers import Conv2D, MaxPooling2D, BatchNormalization\n",
    "from keras.losses import categorical_crossentropy\n",
    "from keras.optimizers import Adam \n",
    "from keras.regularizers import l2\n",
    "from keras.utils import np_utils\n",
    "from tensorflow.keras.callbacks import EarlyStopping"
   ]
  },
  {
   "cell_type": "code",
   "execution_count": 2,
   "metadata": {},
   "outputs": [],
   "source": [
    "test = tf.keras.models.load_model('my_model_from_scratch')"
   ]
  },
  {
   "cell_type": "code",
   "execution_count": 3,
   "metadata": {},
   "outputs": [
    {
     "data": {
      "text/plain": [
       "<matplotlib.image.AxesImage at 0x20451c2d730>"
      ]
     },
     "execution_count": 3,
     "metadata": {},
     "output_type": "execute_result"
    },
    {
     "data": {
      "image/png": "[encoded data removed]",
      "text/plain": [
       "<Figure size 432x288 with 1 Axes>"
      ]
     },
     "metadata": {
      "needs_background": "light"
     },
     "output_type": "display_data"
    }
   ],
   "source": [
    "img  = cv2.imread('./FER_dataset/test/happy/PrivateTest_647018.jpg')\n",
    "img.shape\n",
    "plt.imshow(cv2.cvtColor(img,cv2.COLOR_BGR2RGB))\n"
   ]
  },
  {
   "cell_type": "code",
   "execution_count": 4,
   "metadata": {},
   "outputs": [
    {
     "data": {
      "text/plain": [
       "(48, 48)"
      ]
     },
     "execution_count": 4,
     "metadata": {},
     "output_type": "execute_result"
    }
   ],
   "source": [
    "faceCascade = cv2.CascadeClassifier(cv2.data.haarcascades + 'haarcascade_frontalface_default.xml')\n",
    "gray  = cv2.cvtColor(img, cv2.COLOR_BGR2GRAY)\n",
    "gray.shape"
   ]
  },
  {
   "cell_type": "code",
   "execution_count": 5,
   "metadata": {},
   "outputs": [],
   "source": [
    "faces = faceCascade.detectMultiScale(gray, 1.1,4)\n",
    "for x,y,w,h in faces:\n",
    "    cv2.rectangle(img, (x, y), (x+w, y+h), (0,255,0),2)\n",
    "    roi_gray = gray[y:y+h,x:x+w]\n",
    "    roi_color = img[y:y+h, x:x+w]\n",
    "    facess = faceCascade.detectMultiScale(roi_gray)\n",
    "    if len(facess)==0:\n",
    "        print(\"no face detected\")\n",
    "    else:\n",
    "        print('ok')\n",
    "        for (ex,ey,ew,eh) in facess:\n",
    "            face_roi  = roi_color[ey:ey+eh,ex:ex+ew]"
   ]
  },
  {
   "cell_type": "code",
   "execution_count": 6,
   "metadata": {},
   "outputs": [
    {
     "data": {
      "text/plain": [
       "<matplotlib.image.AxesImage at 0x20453c09250>"
      ]
     },
     "execution_count": 6,
     "metadata": {},
     "output_type": "execute_result"
    },
    {
     "data": {
      "image/png": "[encoded data removed]",
      "text/plain": [
       "<Figure size 432x288 with 1 Axes>"
      ]
     },
     "metadata": {
      "needs_background": "light"
     },
     "output_type": "display_data"
    }
   ],
   "source": [
    "plt.imshow(cv2.cvtColor(img, cv2.COLOR_BGR2RGB))"
   ]
  },
  {
   "cell_type": "code",
   "execution_count": 7,
   "metadata": {},
   "outputs": [],
   "source": [
    "#plt.imshow(cv2.cvtColor(face_roi, cv2.COLOR_BGR2RGB))"
   ]
  },
  {
   "cell_type": "code",
   "execution_count": 8,
   "metadata": {},
   "outputs": [
    {
     "data": {
      "text/plain": [
       "'\\nPredictions = test.predict(final_img)\\nPredictions[0]\\n'"
      ]
     },
     "execution_count": 8,
     "metadata": {},
     "output_type": "execute_result"
    }
   ],
   "source": [
    "\"\"\"\n",
    "final_img  = cv2.resize(face_roi, (48,48))\n",
    "final_img = cv2.cvtColor(final_img, cv2.COLOR_RGB2GRAY)\n",
    "plt.imshow(final_img)\n",
    "\n",
    "final_img = img\n",
    "final_img = np.expand_dims(final_img, axis = 0) \n",
    "#final_img = np.expand_dims(final_img, axis = 3)#add fourth dimension\n",
    "final_img = final_img/255.0\n",
    "\"\"\"\n",
    "\"\"\"\n",
    "Predictions = test.predict(final_img)\n",
    "Predictions[0]\n",
    "\"\"\""
   ]
  },
  {
   "cell_type": "code",
   "execution_count": 9,
   "metadata": {},
   "outputs": [
    {
     "name": "stdout",
     "output_type": "stream",
     "text": [
      "img (48, 48)\n",
      "img_gray (48, 48)\n"
     ]
    },
    {
     "data": {
      "text/plain": [
       "(1, 48, 48, 1)"
      ]
     },
     "execution_count": 9,
     "metadata": {},
     "output_type": "execute_result"
    }
   ],
   "source": [
    "img_size = 48\n",
    "#img = cv2.cvtColor(img, cv2.COLOR_RGB2GRAY)\n",
    "img = np.array(gray)\n",
    "print(\"img\", img.shape)\n",
    "print(\"img_gray\", img.shape)\n",
    "X = np.array(img).reshape(-1,img_size,img_size,1)\n",
    "X = X/255.0;\n",
    "X.shape"
   ]
  },
  {
   "cell_type": "code",
   "execution_count": 10,
   "metadata": {},
   "outputs": [
    {
     "name": "stdout",
     "output_type": "stream",
     "text": [
      "[[1.7390790e-03 1.6688280e-05 3.9933603e-03 9.3945080e-01 1.3513886e-02\n",
      "  1.1323821e-03 4.0153801e-02]]\n",
      "happy\n"
     ]
    }
   ],
   "source": [
    "Classes = ['angry','disgust','fear','happy','neutral','sad','surprise']\n",
    "Predictions = test.predict(X)\n",
    "print(Predictions)\n",
    "ind = np.argmax(Predictions)\n",
    "print(Classes[ind])"
   ]
  },
  {
   "cell_type": "code",
   "execution_count": null,
   "metadata": {},
   "outputs": [],
   "source": []
  },
  {
   "cell_type": "code",
   "execution_count": null,
   "metadata": {},
   "outputs": [],
   "source": []
  },
  {
   "cell_type": "code",
   "execution_count": null,
   "metadata": {},
   "outputs": [],
   "source": []
  },
  {
   "cell_type": "code",
   "execution_count": null,
   "metadata": {},
   "outputs": [],
   "source": []
  }
 ],
 "metadata": {
  "kernelspec": {
   "display_name": "Python 3",
   "language": "python",
   "name": "python3"
  },
  "language_info": {
   "codemirror_mode": {
    "name": "ipython",
    "version": 3
   },
   "file_extension": ".py",
   "mimetype": "text/x-python",
   "name": "python",
   "nbconvert_exporter": "python",
   "pygments_lexer": "ipython3",
   "version": "3.8.3"
  }
 },
 "nbformat": 4,
 "nbformat_minor": 4
}
