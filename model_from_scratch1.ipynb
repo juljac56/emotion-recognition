{
 "cells": [
  {
   "cell_type": "code",
   "execution_count": 1,
   "metadata": {},
   "outputs": [],
   "source": [
    "import sys \n",
    "import os \n",
    "import cv2\n",
    "import numpy as np\n",
    "import matplotlib.pyplot as plt\n",
    "import tensorflow as tf\n",
    "import pandas as pd\n",
    "from keras.models import Sequential\n",
    "from keras.layers import Dense, Dropout, Activation, Flatten\n",
    "from keras.layers import Conv2D, MaxPooling2D, BatchNormalization\n",
    "from keras. losses import categorical_crossentropy\n",
    "from keras.optimizers import Adam \n",
    "from keras.regularizers import l2\n",
    "from keras.utils import np_utils\n",
    "from tensorflow.keras.callbacks import EarlyStopping"
   ]
  },
  {
   "cell_type": "code",
   "execution_count": 2,
   "metadata": {},
   "outputs": [
    {
     "name": "stdout",
     "output_type": "stream",
     "text": [
      "<class 'pandas.core.frame.DataFrame'>\n",
      "RangeIndex: 35887 entries, 0 to 35886\n",
      "Data columns (total 3 columns):\n",
      " #   Column   Non-Null Count  Dtype \n",
      "---  ------   --------------  ----- \n",
      " 0   emotion  35887 non-null  int64 \n",
      " 1   pixels   35887 non-null  object\n",
      " 2   Usage    35887 non-null  object\n",
      "dtypes: int64(1), object(2)\n",
      "memory usage: 841.2+ KB\n",
      "None\n"
     ]
    },
    {
     "data": {
      "text/html": [
       "<div>\n",
       "<style scoped>\n",
       "    .dataframe tbody tr th:only-of-type {\n",
       "        vertical-align: middle;\n",
       "    }\n",
       "\n",
       "    .dataframe tbody tr th {\n",
       "        vertical-align: top;\n",
       "    }\n",
       "\n",
       "    .dataframe thead th {\n",
       "        text-align: right;\n",
       "    }\n",
       "</style>\n",
       "<table border=\"1\" class=\"dataframe\">\n",
       "  <thead>\n",
       "    <tr style=\"text-align: right;\">\n",
       "      <th></th>\n",
       "      <th>emotion</th>\n",
       "      <th>pixels</th>\n",
       "      <th>Usage</th>\n",
       "    </tr>\n",
       "  </thead>\n",
       "  <tbody>\n",
       "    <tr>\n",
       "      <th>0</th>\n",
       "      <td>0</td>\n",
       "      <td>70 80 82 72 58 58 60 63 54 58 60 48 89 115 121...</td>\n",
       "      <td>Training</td>\n",
       "    </tr>\n",
       "    <tr>\n",
       "      <th>1</th>\n",
       "      <td>0</td>\n",
       "      <td>151 150 147 155 148 133 111 140 170 174 182 15...</td>\n",
       "      <td>Training</td>\n",
       "    </tr>\n",
       "    <tr>\n",
       "      <th>2</th>\n",
       "      <td>2</td>\n",
       "      <td>231 212 156 164 174 138 161 173 182 200 106 38...</td>\n",
       "      <td>Training</td>\n",
       "    </tr>\n",
       "    <tr>\n",
       "      <th>3</th>\n",
       "      <td>4</td>\n",
       "      <td>24 32 36 30 32 23 19 20 30 41 21 22 32 34 21 1...</td>\n",
       "      <td>Training</td>\n",
       "    </tr>\n",
       "    <tr>\n",
       "      <th>4</th>\n",
       "      <td>6</td>\n",
       "      <td>4 0 0 0 0 0 0 0 0 0 0 0 3 15 23 28 48 50 58 84...</td>\n",
       "      <td>Training</td>\n",
       "    </tr>\n",
       "  </tbody>\n",
       "</table>\n",
       "</div>"
      ],
      "text/plain": [
       "   emotion                                             pixels     Usage\n",
       "0        0  70 80 82 72 58 58 60 63 54 58 60 48 89 115 121...  Training\n",
       "1        0  151 150 147 155 148 133 111 140 170 174 182 15...  Training\n",
       "2        2  231 212 156 164 174 138 161 173 182 200 106 38...  Training\n",
       "3        4  24 32 36 30 32 23 19 20 30 41 21 22 32 34 21 1...  Training\n",
       "4        6  4 0 0 0 0 0 0 0 0 0 0 0 3 15 23 28 48 50 58 84...  Training"
      ]
     },
     "execution_count": 2,
     "metadata": {},
     "output_type": "execute_result"
    }
   ],
   "source": [
    "data  =  pd.read_csv('fer2013.csv')  #import the data \n",
    "print(data.info())\n",
    "data.head()   # third colonn => usage : Training or PrivateTest or PublicTest"
   ]
  },
  {
   "cell_type": "code",
   "execution_count": 3,
   "metadata": {},
   "outputs": [],
   "source": [
    "X =  []\n",
    "y = []\n",
    "X_v = []\n",
    "y_v = []"
   ]
  },
  {
   "cell_type": "code",
   "execution_count": 4,
   "metadata": {},
   "outputs": [],
   "source": [
    "for i, row in data.iterrows():\n",
    "    val = row['pixels'].split(\" \")\n",
    "    try:\n",
    "        if 'Training' in row['Usage']:\n",
    "            X.append(np.array(val))\n",
    "            y.append(row['emotion'])\n",
    "        elif 'PublicTest' in row['Usage']:\n",
    "            X_v.append(np.array(val))\n",
    "            y_v.append(row['emotion'])\n",
    "    except:\n",
    "         print(\"error\")\n",
    "            "
   ]
  },
  {
   "cell_type": "code",
   "execution_count": 5,
   "metadata": {},
   "outputs": [
    {
     "name": "stdout",
     "output_type": "stream",
     "text": [
      "28709\n",
      "3589\n"
     ]
    }
   ],
   "source": [
    "X = np.array(X, 'float32')\n",
    "X_v = np.array(X_v,'float32')\n",
    "y = np.array(y,'float32')\n",
    "y_v = np.array(y_v,'float32')\n",
    "\n",
    "print(len(X))\n",
    "print(len(X_v))"
   ]
  },
  {
   "cell_type": "code",
   "execution_count": 6,
   "metadata": {},
   "outputs": [],
   "source": [
    "X  = X - np.mean(X, axis =0)\n",
    "X  = X/ np.std(X, axis =0)   #Normalize the data\n",
    "\n",
    "X_v  = X_v - np.mean(X_v, axis =0)\n",
    "X_v  = X_v/ np.std(X_v, axis =0)"
   ]
  },
  {
   "cell_type": "code",
   "execution_count": 7,
   "metadata": {},
   "outputs": [],
   "source": [
    "X = X.reshape(X.shape[0], 48, 48, 1)\n",
    "X_v = X_v.reshape(X_v.shape[0], 48, 48, 1)"
   ]
  },
  {
   "cell_type": "code",
   "execution_count": 8,
   "metadata": {},
   "outputs": [],
   "source": [
    "model = Sequential()"
   ]
  },
  {
   "cell_type": "code",
   "execution_count": 9,
   "metadata": {},
   "outputs": [],
   "source": [
    "model.add(Conv2D(64, kernel_size=(3,3), activation='relu', input_shape = (X.shape[1:])))\n",
    "model.add(Conv2D(64, kernel_size=(3,3), activation='relu'))\n",
    "model.add(MaxPooling2D(pool_size =(2,2), strides = (2,2)))\n",
    "model.add(Dropout(0.5))"
   ]
  },
  {
   "cell_type": "code",
   "execution_count": 10,
   "metadata": {},
   "outputs": [],
   "source": [
    "model.add(Conv2D(64, kernel_size=(3,3), activation='relu', input_shape = (X.shape[1:])))\n",
    "model.add(Conv2D(64, kernel_size=(3,3), activation='relu',input_shape = (X.shape[1:])))\n",
    "model.add(MaxPooling2D(pool_size =(2,2), strides = (2,2)))\n",
    "model.add(Dropout(0.5))"
   ]
  },
  {
   "cell_type": "code",
   "execution_count": 11,
   "metadata": {},
   "outputs": [],
   "source": [
    "model.add(Conv2D(128, kernel_size=(3,3), activation='relu', input_shape = (X.shape[1:])))\n",
    "model.add(Conv2D(128, kernel_size=(3,3), activation='relu',input_shape = (X.shape[1:])))\n",
    "model.add(MaxPooling2D(pool_size =(2,2), strides = (2,2)))"
   ]
  },
  {
   "cell_type": "code",
   "execution_count": 12,
   "metadata": {},
   "outputs": [],
   "source": [
    "model.add(Flatten())\n",
    "\n",
    "model.add(Dense(8*64, activation ='relu'))\n",
    "model.add(Dropout(0.5))"
   ]
  },
  {
   "cell_type": "code",
   "execution_count": 13,
   "metadata": {},
   "outputs": [],
   "source": [
    "model.add(Dense(8*64, activation ='relu'))\n",
    "model.add(Dropout(0.5))"
   ]
  },
  {
   "cell_type": "code",
   "execution_count": 14,
   "metadata": {},
   "outputs": [
    {
     "name": "stdout",
     "output_type": "stream",
     "text": [
      "Model: \"sequential\"\n",
      "_________________________________________________________________\n",
      "Layer (type)                 Output Shape              Param #   \n",
      "=================================================================\n",
      "conv2d (Conv2D)              (None, 46, 46, 64)        640       \n",
      "_________________________________________________________________\n",
      "conv2d_1 (Conv2D)            (None, 44, 44, 64)        36928     \n",
      "_________________________________________________________________\n",
      "max_pooling2d (MaxPooling2D) (None, 22, 22, 64)        0         \n",
      "_________________________________________________________________\n",
      "dropout (Dropout)            (None, 22, 22, 64)        0         \n",
      "_________________________________________________________________\n",
      "conv2d_2 (Conv2D)            (None, 20, 20, 64)        36928     \n",
      "_________________________________________________________________\n",
      "conv2d_3 (Conv2D)            (None, 18, 18, 64)        36928     \n",
      "_________________________________________________________________\n",
      "max_pooling2d_1 (MaxPooling2 (None, 9, 9, 64)          0         \n",
      "_________________________________________________________________\n",
      "dropout_1 (Dropout)          (None, 9, 9, 64)          0         \n",
      "_________________________________________________________________\n",
      "conv2d_4 (Conv2D)            (None, 7, 7, 128)         73856     \n",
      "_________________________________________________________________\n",
      "conv2d_5 (Conv2D)            (None, 5, 5, 128)         147584    \n",
      "_________________________________________________________________\n",
      "max_pooling2d_2 (MaxPooling2 (None, 2, 2, 128)         0         \n",
      "_________________________________________________________________\n",
      "flatten (Flatten)            (None, 512)               0         \n",
      "_________________________________________________________________\n",
      "dense (Dense)                (None, 512)               262656    \n",
      "_________________________________________________________________\n",
      "dropout_2 (Dropout)          (None, 512)               0         \n",
      "_________________________________________________________________\n",
      "dense_1 (Dense)              (None, 512)               262656    \n",
      "_________________________________________________________________\n",
      "dropout_3 (Dropout)          (None, 512)               0         \n",
      "_________________________________________________________________\n",
      "dense_2 (Dense)              (None, 7)                 3591      \n",
      "=================================================================\n",
      "Total params: 861,767\n",
      "Trainable params: 861,767\n",
      "Non-trainable params: 0\n",
      "_________________________________________________________________\n"
     ]
    }
   ],
   "source": [
    "model.add(Dense(7, activation='softmax'))\n",
    "\n",
    "model.summary()"
   ]
  },
  {
   "cell_type": "code",
   "execution_count": 15,
   "metadata": {},
   "outputs": [],
   "source": [
    "early_stopping = EarlyStopping(      #add a callback function to gain in time\n",
    "    min_delta=0.001, # minimium amount of change to count as an improvement\n",
    "    patience=8, # how many epochs to wait before stopping\n",
    "    restore_best_weights=True,\n",
    ")\n",
    "\n",
    "checkpoint_filepath = './tmp/checkpoints'    #save the best model\n",
    "model_checkpoint_callback = tf.keras.callbacks.ModelCheckpoint(\n",
    "    filepath=checkpoint_filepath,\n",
    "    save_weights_only=True,\n",
    "    monitor='val_accuracy',\n",
    "    mode='max',\n",
    "    save_best_only=True)"
   ]
  },
  {
   "cell_type": "code",
   "execution_count": 16,
   "metadata": {},
   "outputs": [],
   "source": [
    "model.compile(loss=\"sparse_categorical_crossentropy\", optimizer =Adam(), metrics = ['accuracy'])\n"
   ]
  },
  {
   "cell_type": "code",
   "execution_count": 17,
   "metadata": {},
   "outputs": [
    {
     "name": "stdout",
     "output_type": "stream",
     "text": [
      "Epoch 1/50\n",
      "898/898 [==============================] - 171s 190ms/step - loss: 1.8194 - accuracy: 0.2436 - val_loss: 1.7120 - val_accuracy: 0.2998\n",
      "Epoch 2/50\n",
      "898/898 [==============================] - 176s 197ms/step - loss: 1.6594 - accuracy: 0.3307 - val_loss: 1.4844 - val_accuracy: 0.4179\n",
      "Epoch 3/50\n",
      "898/898 [==============================] - 179s 199ms/step - loss: 1.5387 - accuracy: 0.3946 - val_loss: 1.4320 - val_accuracy: 0.4283\n",
      "Epoch 4/50\n",
      "898/898 [==============================] - 179s 199ms/step - loss: 1.4628 - accuracy: 0.4258 - val_loss: 1.3828 - val_accuracy: 0.4670\n",
      "Epoch 5/50\n",
      "898/898 [==============================] - 184s 205ms/step - loss: 1.4204 - accuracy: 0.4447 - val_loss: 1.3226 - val_accuracy: 0.4837\n",
      "Epoch 6/50\n",
      "898/898 [==============================] - 181s 201ms/step - loss: 1.3719 - accuracy: 0.4647 - val_loss: 1.2947 - val_accuracy: 0.4999\n",
      "Epoch 7/50\n",
      "898/898 [==============================] - 182s 203ms/step - loss: 1.3649 - accuracy: 0.4687 - val_loss: 1.2942 - val_accuracy: 0.5040\n",
      "Epoch 8/50\n",
      "898/898 [==============================] - 187s 208ms/step - loss: 1.3543 - accuracy: 0.4789 - val_loss: 1.2991 - val_accuracy: 0.4940\n",
      "Epoch 9/50\n",
      "898/898 [==============================] - 188s 209ms/step - loss: 1.3297 - accuracy: 0.4874 - val_loss: 1.2768 - val_accuracy: 0.5096\n",
      "Epoch 10/50\n",
      "898/898 [==============================] - 188s 209ms/step - loss: 1.3165 - accuracy: 0.4892 - val_loss: 1.2567 - val_accuracy: 0.5141\n",
      "Epoch 11/50\n",
      "898/898 [==============================] - 189s 210ms/step - loss: 1.3147 - accuracy: 0.4931 - val_loss: 1.2491 - val_accuracy: 0.5210\n",
      "Epoch 12/50\n",
      "898/898 [==============================] - 189s 211ms/step - loss: 1.3108 - accuracy: 0.4986 - val_loss: 1.2681 - val_accuracy: 0.5116\n",
      "Epoch 13/50\n",
      "898/898 [==============================] - 188s 210ms/step - loss: 1.2953 - accuracy: 0.5010 - val_loss: 1.2480 - val_accuracy: 0.5032\n",
      "Epoch 14/50\n",
      "898/898 [==============================] - 192s 213ms/step - loss: 1.2839 - accuracy: 0.5016 - val_loss: 1.2277 - val_accuracy: 0.5352\n",
      "Epoch 15/50\n",
      "898/898 [==============================] - 193s 214ms/step - loss: 1.2712 - accuracy: 0.5149 - val_loss: 1.2415 - val_accuracy: 0.5188\n",
      "Epoch 16/50\n",
      "898/898 [==============================] - 191s 212ms/step - loss: 1.2654 - accuracy: 0.5193 - val_loss: 1.2267 - val_accuracy: 0.5280\n",
      "Epoch 17/50\n",
      "898/898 [==============================] - 188s 209ms/step - loss: 1.2599 - accuracy: 0.5234 - val_loss: 1.2322 - val_accuracy: 0.5202\n",
      "Epoch 18/50\n",
      "898/898 [==============================] - 188s 209ms/step - loss: 1.2653 - accuracy: 0.5194 - val_loss: 1.2115 - val_accuracy: 0.5322\n",
      "Epoch 19/50\n",
      "898/898 [==============================] - 188s 209ms/step - loss: 1.2663 - accuracy: 0.5161 - val_loss: 1.2071 - val_accuracy: 0.5372\n",
      "Epoch 20/50\n",
      "898/898 [==============================] - 188s 210ms/step - loss: 1.2466 - accuracy: 0.5257 - val_loss: 1.2433 - val_accuracy: 0.5274\n",
      "Epoch 21/50\n",
      "898/898 [==============================] - 188s 209ms/step - loss: 1.2544 - accuracy: 0.5189 - val_loss: 1.2214 - val_accuracy: 0.5403\n",
      "Epoch 22/50\n",
      "898/898 [==============================] - 188s 209ms/step - loss: 1.2580 - accuracy: 0.5199 - val_loss: 1.2183 - val_accuracy: 0.5366\n",
      "Epoch 23/50\n",
      "898/898 [==============================] - 189s 210ms/step - loss: 1.2314 - accuracy: 0.5320 - val_loss: 1.1950 - val_accuracy: 0.5506\n",
      "Epoch 24/50\n",
      "898/898 [==============================] - 188s 209ms/step - loss: 1.2445 - accuracy: 0.5281 - val_loss: 1.2009 - val_accuracy: 0.5411\n",
      "Epoch 25/50\n",
      "898/898 [==============================] - 189s 210ms/step - loss: 1.2262 - accuracy: 0.5294 - val_loss: 1.1747 - val_accuracy: 0.5564\n",
      "Epoch 26/50\n",
      "898/898 [==============================] - 187s 209ms/step - loss: 1.2257 - accuracy: 0.5352 - val_loss: 1.2209 - val_accuracy: 0.5414\n",
      "Epoch 27/50\n",
      "898/898 [==============================] - 187s 208ms/step - loss: 1.2393 - accuracy: 0.5241 - val_loss: 1.2165 - val_accuracy: 0.5319\n",
      "Epoch 28/50\n",
      "898/898 [==============================] - 187s 208ms/step - loss: 1.2396 - accuracy: 0.5255 - val_loss: 1.2017 - val_accuracy: 0.5364\n",
      "Epoch 29/50\n",
      "898/898 [==============================] - 187s 208ms/step - loss: 1.2277 - accuracy: 0.5310 - val_loss: 1.2184 - val_accuracy: 0.5419\n",
      "Epoch 30/50\n",
      "898/898 [==============================] - 188s 209ms/step - loss: 1.2203 - accuracy: 0.5339 - val_loss: 1.2038 - val_accuracy: 0.5430\n",
      "Epoch 31/50\n",
      "898/898 [==============================] - 190s 211ms/step - loss: 1.2308 - accuracy: 0.5286 - val_loss: 1.1921 - val_accuracy: 0.5556\n",
      "Epoch 32/50\n",
      "898/898 [==============================] - 188s 209ms/step - loss: 1.2233 - accuracy: 0.5334 - val_loss: 1.2163 - val_accuracy: 0.5330\n",
      "Epoch 33/50\n",
      "898/898 [==============================] - 186s 208ms/step - loss: 1.2331 - accuracy: 0.5323 - val_loss: 1.2009 - val_accuracy: 0.5375\n"
     ]
    }
   ],
   "source": [
    "history = model.fit(X,y, 32, epochs = 50, verbose = 1, validation_data=(X_v,y_v), callbacks=[early_stopping, model_checkpoint_callback], shuffle = True)"
   ]
  },
  {
   "cell_type": "code",
   "execution_count": 18,
   "metadata": {},
   "outputs": [
    {
     "name": "stdout",
     "output_type": "stream",
     "text": [
      "INFO:tensorflow:Assets written to: my_model_from_scratch\\assets\n"
     ]
    }
   ],
   "source": [
    "model.save('my_model_from_scratch')   #save the model"
   ]
  },
  {
   "cell_type": "code",
   "execution_count": 20,
   "metadata": {},
   "outputs": [
    {
     "name": "stdout",
     "output_type": "stream",
     "text": [
      "Minimum validation loss: 1.1747221946716309\n"
     ]
    },
    {
     "data": {
      "image/png": "[encoded data removed]",
      "text/plain": [
       "<Figure size 432x288 with 1 Axes>"
      ]
     },
     "metadata": {
      "needs_background": "light"
     },
     "output_type": "display_data"
    },
    {
     "data": {
      "image/png": "[encoded data removed]",
      "text/plain": [
       "<Figure size 432x288 with 1 Axes>"
      ]
     },
     "metadata": {
      "needs_background": "light"
     },
     "output_type": "display_data"
    }
   ],
   "source": [
    "history_df = pd.DataFrame(history.history)\n",
    "history_df.loc[:, ['loss', 'val_loss']].plot();\n",
    "history_df.loc[:, ['accuracy', 'val_accuracy']].plot();\n",
    "print(\"Minimum validation loss: {}\".format(history_df['val_loss'].min()))"
   ]
  }
 ],
 "metadata": {
  "kernelspec": {
   "display_name": "Python 3",
   "language": "python",
   "name": "python3"
  },
  "language_info": {
   "codemirror_mode": {
    "name": "ipython",
    "version": 3
   },
   "file_extension": ".py",
   "mimetype": "text/x-python",
   "name": "python",
   "nbconvert_exporter": "python",
   "pygments_lexer": "ipython3",
   "version": "3.9.2"
  }
 },
 "nbformat": 4,
 "nbformat_minor": 4
}
